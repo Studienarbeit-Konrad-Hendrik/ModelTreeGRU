{
 "cells": [
  {
   "cell_type": "markdown",
   "metadata": {},
   "source": [
    "### Test with 50000 Datapoints"
   ]
  },
  {
   "cell_type": "code",
   "execution_count": 1,
   "metadata": {},
   "outputs": [],
   "source": [
    "import data as d"
   ]
  },
  {
   "cell_type": "markdown",
   "metadata": {},
   "source": [
    "##### 5000 * 10 Datapoints, 1600 samples"
   ]
  },
  {
   "cell_type": "code",
   "execution_count": 2,
   "metadata": {},
   "outputs": [
    {
     "name": "stdout",
     "output_type": "stream",
     "text": [
      "2818.06952\n",
      "2109.85568\n"
     ]
    }
   ],
   "source": [
    "data_list = d.get_data(5000, 16, 25, 10)"
   ]
  },
  {
   "cell_type": "code",
   "execution_count": 32,
   "metadata": {},
   "outputs": [
    {
     "data": {
      "text/plain": [
       "<module 'helper' from 'C:\\\\Users\\\\Hendrik\\\\Documents\\\\GitHub\\\\ModelTreeGRU\\\\helper.py'>"
      ]
     },
     "execution_count": 32,
     "metadata": {},
     "output_type": "execute_result"
    }
   ],
   "source": [
    "import torch\n",
    "import torch.nn as nn\n",
    "import torch.optim as optim\n",
    "import model_gru as m\n",
    "import tree_net as TN\n",
    "import imp\n",
    "imp.reload(TN)\n",
    "imp.reload(TN.helper)"
   ]
  },
  {
   "cell_type": "code",
   "execution_count": 33,
   "metadata": {},
   "outputs": [],
   "source": [
    "encoder_l0 = torch.load(\"models/encoder-h50-f50-s1600-b10-lin-adam-el0.mdl\")\n",
    "encoder_l1 = torch.load(\"models/encoder-h50-f50-s1600-b10-lin-adam-el1.mdl\")\n",
    "\n",
    "decoder_l0 = torch.load(\"models/decoder-h50-f50-s1600-b10-lin-adam-dl0.mdl\")\n",
    "decoder_l1 = torch.load(\"models/decoder-h50-f50-s1600-b10-lin-adam-dl1.mdl\")\n",
    "\n",
    "pretrained_models = [{'level': 0, 'encoder': encoder_l0, 'decoder': decoder_l0}, {'level': 1, 'encoder': encoder_l1, 'decoder': decoder_l1}]"
   ]
  },
  {
   "cell_type": "code",
   "execution_count": 40,
   "metadata": {},
   "outputs": [
    {
     "name": "stdout",
     "output_type": "stream",
     "text": [
      "Parameter list contains 14entries!\n"
     ]
    }
   ],
   "source": [
    "tree_n = TN.TreeNet([50,250,2000], 10, [50,10,10], 0.01, pretrained=pretrained_models)\n",
    "\n",
    "loss_f = nn.MSELoss()"
   ]
  },
  {
   "cell_type": "code",
   "execution_count": null,
   "metadata": {},
   "outputs": [
    {
     "name": "stdout",
     "output_type": "stream",
     "text": [
      "0 tensor(0.0422, device='cuda:0', grad_fn=<DivBackward0>)\n",
      "1 tensor(0.0390, device='cuda:0', grad_fn=<DivBackward0>)\n",
      "2 tensor(0.0389, device='cuda:0', grad_fn=<DivBackward0>)\n",
      "3 tensor(0.0389, device='cuda:0', grad_fn=<DivBackward0>)\n",
      "4 tensor(0.0389, device='cuda:0', grad_fn=<DivBackward0>)\n",
      "5 tensor(0.0389, device='cuda:0', grad_fn=<DivBackward0>)\n",
      "6 tensor(0.0389, device='cuda:0', grad_fn=<DivBackward0>)\n",
      "7 tensor(0.0389, device='cuda:0', grad_fn=<DivBackward0>)\n",
      "8 tensor(0.0389, device='cuda:0', grad_fn=<DivBackward0>)\n",
      "9 tensor(0.0389, device='cuda:0', grad_fn=<DivBackward0>)\n",
      "10 tensor(0.0389, device='cuda:0', grad_fn=<DivBackward0>)\n",
      "11 tensor(0.0389, device='cuda:0', grad_fn=<DivBackward0>)\n",
      "12 tensor(0.0389, device='cuda:0', grad_fn=<DivBackward0>)\n",
      "13 tensor(0.0389, device='cuda:0', grad_fn=<DivBackward0>)\n",
      "14 tensor(0.0389, device='cuda:0', grad_fn=<DivBackward0>)\n",
      "15 tensor(0.0389, device='cuda:0', grad_fn=<DivBackward0>)\n",
      "16 tensor(0.0389, device='cuda:0', grad_fn=<DivBackward0>)\n",
      "17 tensor(0.0389, device='cuda:0', grad_fn=<DivBackward0>)\n",
      "18 tensor(0.0389, device='cuda:0', grad_fn=<DivBackward0>)\n",
      "19 tensor(0.0389, device='cuda:0', grad_fn=<DivBackward0>)\n",
      "20 tensor(0.0389, device='cuda:0', grad_fn=<DivBackward0>)\n",
      "21 tensor(0.0389, device='cuda:0', grad_fn=<DivBackward0>)\n",
      "22 tensor(0.0389, device='cuda:0', grad_fn=<DivBackward0>)\n",
      "23 tensor(0.0389, device='cuda:0', grad_fn=<DivBackward0>)\n",
      "24 tensor(0.0389, device='cuda:0', grad_fn=<DivBackward0>)\n",
      "25 tensor(0.0389, device='cuda:0', grad_fn=<DivBackward0>)\n",
      "26 tensor(0.0389, device='cuda:0', grad_fn=<DivBackward0>)\n",
      "27 tensor(0.0389, device='cuda:0', grad_fn=<DivBackward0>)\n",
      "28 tensor(0.0389, device='cuda:0', grad_fn=<DivBackward0>)\n",
      "29 tensor(0.0389, device='cuda:0', grad_fn=<DivBackward0>)\n",
      "30 tensor(0.0389, device='cuda:0', grad_fn=<DivBackward0>)\n",
      "31 tensor(0.0389, device='cuda:0', grad_fn=<DivBackward0>)\n",
      "32 tensor(0.0389, device='cuda:0', grad_fn=<DivBackward0>)\n",
      "33 tensor(0.0389, device='cuda:0', grad_fn=<DivBackward0>)\n"
     ]
    }
   ],
   "source": [
    "for e in range(500):\n",
    "    \n",
    "    avg_loss = 0.0\n",
    "    \n",
    "    for b in data_list:\n",
    "        tree_n.zero_grad()\n",
    "        \n",
    "        b_t = torch.from_numpy(b).float().cuda()\n",
    "        \n",
    "        states = tree_n.forward(b_t)\n",
    "        predicted = tree_n.backward(states)\n",
    "        \n",
    "        loss = loss_f(predicted, b_t)\n",
    "        \n",
    "        loss.backward()\n",
    "        \n",
    "        tree_n.optimizer.step()\n",
    "        \n",
    "        avg_loss += loss\n",
    "        \n",
    "    avg_loss /= len(data_list)\n",
    "    \n",
    "    print(e, avg_loss)\n",
    "        "
   ]
  },
  {
   "cell_type": "code",
   "execution_count": null,
   "metadata": {},
   "outputs": [],
   "source": []
  }
 ],
 "metadata": {
  "kernelspec": {
   "display_name": "Python 3",
   "language": "python",
   "name": "python3"
  },
  "language_info": {
   "codemirror_mode": {
    "name": "ipython",
    "version": 3
   },
   "file_extension": ".py",
   "mimetype": "text/x-python",
   "name": "python",
   "nbconvert_exporter": "python",
   "pygments_lexer": "ipython3",
   "version": "3.6.8"
  }
 },
 "nbformat": 4,
 "nbformat_minor": 4
}
